{
  "nbformat": 4,
  "nbformat_minor": 0,
  "metadata": {
    "colab": {
      "provenance": [],
      "authorship_tag": "ABX9TyN9xHPn9RktAlOIT3IdpwWG",
      "include_colab_link": true
    },
    "kernelspec": {
      "name": "python3",
      "display_name": "Python 3"
    },
    "language_info": {
      "name": "python"
    }
  },
  "cells": [
    {
      "cell_type": "markdown",
      "metadata": {
        "id": "view-in-github",
        "colab_type": "text"
      },
      "source": [
        "<a href=\"https://colab.research.google.com/github/ukeshbhaal/marlo-assignment/blob/main/Assignment.ipynb\" target=\"_parent\"><img src=\"https://colab.research.google.com/assets/colab-badge.svg\" alt=\"Open In Colab\"/></a>"
      ]
    },
    {
      "cell_type": "code",
      "execution_count": null,
      "metadata": {
        "id": "LfDZm5F5jUxS",
        "colab": {
          "base_uri": "https://localhost:8080/"
        },
        "outputId": "c3758a20-b19b-45dd-c8e5-8d033d99a5cb"
      },
      "outputs": [
        {
          "output_type": "stream",
          "name": "stdout",
          "text": [
            "Looking in indexes: https://pypi.org/simple, https://us-python.pkg.dev/colab-wheels/public/simple/\n",
            "Requirement already satisfied: flask in /usr/local/lib/python3.10/dist-packages (2.2.4)\n",
            "Requirement already satisfied: click>=8.0 in /usr/local/lib/python3.10/dist-packages (from flask) (8.1.3)\n",
            "Requirement already satisfied: Jinja2>=3.0 in /usr/local/lib/python3.10/dist-packages (from flask) (3.1.2)\n",
            "Requirement already satisfied: Werkzeug>=2.2.2 in /usr/local/lib/python3.10/dist-packages (from flask) (2.3.0)\n",
            "Requirement already satisfied: itsdangerous>=2.0 in /usr/local/lib/python3.10/dist-packages (from flask) (2.1.2)\n",
            "Requirement already satisfied: MarkupSafe>=2.0 in /usr/local/lib/python3.10/dist-packages (from Jinja2>=3.0->flask) (2.1.2)\n",
            "Looking in indexes: https://pypi.org/simple, https://us-python.pkg.dev/colab-wheels/public/simple/\n",
            "Requirement already satisfied: pymongo in /usr/local/lib/python3.10/dist-packages (4.3.3)\n",
            "Requirement already satisfied: dnspython<3.0.0,>=1.16.0 in /usr/local/lib/python3.10/dist-packages (from pymongo) (2.3.0)\n"
          ]
        }
      ],
      "source": [
        "!pip install flask\n",
        "!pip install pymongo\n",
        "\n",
        "\n",
        "from flask import Flask, request, jsonify\n",
        "from pymongo import MongoClient\n",
        "\n",
        "app = Flask(__name__)\n",
        "client = MongoClient('mongodb+srv://ukesh:<ukesh>@cluster0.uo8lxtk.mongodb.net/')\n",
        "db = client['ecom_db']\n",
        "\n",
        "@app.route('/register', methods=['POST'])\n",
        "def register():\n",
        "    user_data = request.get_json()\n",
        "    first_name = user_data['first_name']\n",
        "    last_name = user_data['last_name']\n",
        "    email = user_data['email']\n",
        "    password = user_data['password']\n",
        "    \n",
        "    user = {'first_name': first_name, 'last_name': last_name, 'email': email, 'password': password}\n",
        "    db.users.insert_one(user)\n",
        "    \n",
        "    return jsonify({'message': 'User registered successfully'})\n",
        "@app.route('/login', methods=['POST'])\n",
        "def login():\n",
        "    login_data = request.get_json()\n",
        "    email = login_data['email']\n",
        "    password = login_data['password']\n",
        "    \n",
        "    user = db.users.find_one({'email': email})\n",
        "    \n",
        "    if user and user['password'] == password:\n",
        "        return jsonify({'message': 'Login successful'})\n",
        "    else:\n",
        "        return jsonify({'message': 'Invalid credentials'})\n",
        "\n",
        "@app.route('/upload', methods=['POST'])\n",
        "def upload():\n",
        "    if 'file' not in request.files:\n",
        "        return jsonify({'message': 'No file selected'})\n",
        "    \n",
        "    file = request.files['file']\n",
        "    \n",
        "    if file.filename == '':\n",
        "        return jsonify({'message': 'No file selected'})\n",
        "    \n",
        "    if file:\n",
        "        products = []\n",
        "        for line in file:\n",
        "            data = line.decode('utf-8').strip().split(',')\n",
        "            product = {'name': data[0], 'barcode': data[1], 'brand': data[2], 'description': data[3], 'price': float(data[4]), 'available': data[5].lower() == 'true'}\n",
        "            products.append(product)\n",
        "        \n",
        "        db.products.insert_many(products)\n",
        "        \n",
        "        return jsonify({'message': 'File uploaded successfully'})\n",
        "@app.route('/review', methods=['POST'])\n",
        "def review():\n",
        "    review_data = request.get_json()\n",
        "    product_id = review_data['product_id']\n",
        "    user_id = review_data['user_id']\n",
        "    rating = review_data['rating']\n",
        "    comment = review_data['comment']\n",
        "    \n",
        "    review = {'product_id': product_id, 'user_id': user_id, 'rating': rating, 'comment': comment}\n",
        "    db.reviews.insert_one(review)\n",
        "    \n",
        "    return jsonify({'message': 'Review added successfully'})\n",
        "\n",
        "@app.route('/products', methods=['GET'])\n",
        "def products():\n",
        "    page = int(request.args.get('page', 1))\n",
        "    limit = int(request.args.get('limit', 10))\n",
        "    sort = request.args.get('sort', 'rating')\n",
        "    \n",
        "    skip = (page - 1) * limit\n",
        "    \n",
        "    products = db.products.find().sort(sort, -1).skip(skip).limit(limit)\n",
        "    \n",
        "    return jsonify(list(products))\n"
      ]
    }
  ]
}